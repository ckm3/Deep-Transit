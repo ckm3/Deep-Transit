{
 "cells": [
  {
   "cell_type": "markdown",
   "id": "85de6809-1b5d-4fa0-a346-764f8fe3ae00",
   "metadata": {},
   "source": [
    "# Train your own model"
   ]
  },
  {
   "cell_type": "markdown",
   "id": "e4784ee3-eba8-468b-a8ca-8ba8242160cf",
   "metadata": {},
   "source": [
    "## Introduction of object detection model training."
   ]
  },
  {
   "cell_type": "markdown",
   "id": "38e8fcdc-0c49-4e4e-95f4-267ee0f74135",
   "metadata": {},
   "source": [
    "The detailed traing concepts and process can be found in our paper."
   ]
  },
  {
   "cell_type": "markdown",
   "id": "9b2cdab3-ff72-41ad-8a46-80ae9c25269c",
   "metadata": {},
   "source": [
    "## Dataset Preparation"
   ]
  },
  {
   "cell_type": "markdown",
   "id": "9917a2c2-6a26-46b6-a8e1-af67baca2c09",
   "metadata": {},
   "source": [
    "Same as the usual object detection neural network, `Deep-Transit` requires image files and their corresponding label files. The image and label files can be derived from *Kepler*, *TESS* or other photometric missions. Below is an example of our *Kepler* dataset, The details of dataset generation are given in our paper.\n",
    "\n",
    "![](6046540_978_986.png)\n",
    "\n",
    "\n",
    "Its corresponding label file should contain:\n",
    "\n",
    "```\n",
    "0.1117120444000412,0.5045446849388803,0.028724771570025325,0.8975029630385283,104.01682701095234\n",
    "0.9300581187578871,0.5229003724488707,0.028724771570025325,0.934214338058509,97.4743669975705\n",
    "```\n",
    "\n",
    "Those two lines indicate the coordinates (in relative ratio) and signal-to-noise ratios (SNR) of two bounding boxes. The format of each line is in Standard YOLO style: \\[x_center, y_center, width, height, SNR\\]\n",
    "\n",
    "If we plot the light curve with its corresponding bounding boxes, it looks like this:\n",
    "\n",
    "![](6046540_978_986_bbox.png)"
   ]
  },
  {
   "cell_type": "markdown",
   "id": "6c1645a1-59e5-492c-b65c-07157f544a51",
   "metadata": {},
   "source": [
    "## Training"
   ]
  },
  {
   "cell_type": "markdown",
   "id": "51749177-3171-4e08-8795-e6305fc866f9",
   "metadata": {},
   "source": [
    "Once you have parepared your sample and divided them into training and validation data set, you can start your configuration and training your model."
   ]
  },
  {
   "cell_type": "code",
   "execution_count": 1,
   "id": "3034e31b-f17a-4f02-836e-101090d95b1a",
   "metadata": {},
   "outputs": [],
   "source": [
    "import deep_transit as dt"
   ]
  },
  {
   "cell_type": "markdown",
   "id": "fb4e0b97-f66d-4820-9742-d9498b789ab4",
   "metadata": {},
   "source": [
    "If you have GPU, you can set the BATCH_SIZE to a number as large as possible. For example, a single GPU card with 16 GiB memory could accept BATCH_SIZE = 48. Here we use 2 for example."
   ]
  },
  {
   "cell_type": "code",
   "execution_count": 2,
   "id": "36fd7054-7840-4a66-b244-969159bed507",
   "metadata": {},
   "outputs": [],
   "source": [
    "dt.config.BATCH_SIZE = 2"
   ]
  },
  {
   "cell_type": "markdown",
   "id": "b61c7df8-f9a8-4f8f-8d81-5bbd2071c866",
   "metadata": {},
   "source": [
    "And the largest number of epochs you would like to train, here we use 1 just for example."
   ]
  },
  {
   "cell_type": "code",
   "execution_count": 3,
   "id": "4ffca59b-4825-499e-b072-8cca8993d445",
   "metadata": {},
   "outputs": [],
   "source": [
    "dt.config.NUM_EPOCHS = 1"
   ]
  },
  {
   "cell_type": "markdown",
   "id": "b50906bb-58c5-4ec6-8e51-04ca3df79cf2",
   "metadata": {},
   "source": [
    "Then, you need to set the path of your data set."
   ]
  },
  {
   "cell_type": "code",
   "execution_count": 4,
   "id": "cc6c4064-fb9c-415b-97b0-c19f76180e4d",
   "metadata": {},
   "outputs": [],
   "source": [
    "dt.config.DATASET = 'your data path'\n",
    "dt.config.IMG_DIR = dt.config.DATASET + '/transit-images/'\n",
    "dt.config.LABEL_DIR = dt.config.DATASET + '/transit-labels/'"
   ]
  },
  {
   "cell_type": "markdown",
   "id": "542f6972-d378-440a-808e-5aa44608d779",
   "metadata": {},
   "source": [
    "If you want to save the checkpoints during your training: "
   ]
  },
  {
   "cell_type": "code",
   "execution_count": 5,
   "id": "fbebfa3c-a7e5-4ac4-ae29-841c50bada1e",
   "metadata": {},
   "outputs": [],
   "source": [
    "dt.config.SAVE_MODEL = True\n",
    "dt.config.CHECKPOINT_FILE = \"./checkpoint.pth.tar\""
   ]
  },
  {
   "cell_type": "markdown",
   "id": "1c64f5fb-38d5-4efe-ba69-84d6938bc9a9",
   "metadata": {},
   "source": [
    "Or if you have an already trained checkpoint model file, you can load it."
   ]
  },
  {
   "cell_type": "code",
   "execution_count": 6,
   "id": "6871b70b-54a5-492d-9dba-bb0701e02220",
   "metadata": {},
   "outputs": [],
   "source": [
    "dt.config.LOAD_MODEL = False"
   ]
  },
  {
   "cell_type": "markdown",
   "id": "c0a9e1e8-ad11-4b49-b7e6-2f976488468c",
   "metadata": {},
   "source": [
    "Now, you can train your model."
   ]
  },
  {
   "cell_type": "code",
   "execution_count": 7,
   "id": "d63a06ae-8af9-4983-8a1e-d40ce90a6076",
   "metadata": {
    "tags": []
   },
   "outputs": [
    {
     "name": "stdout",
     "output_type": "stream",
     "text": [
      "/home/ckm/PycharmProjects/Deep-Transit/tests/Data\n"
     ]
    },
    {
     "name": "stderr",
     "output_type": "stream",
     "text": [
      "/home/ckm/miniconda3/envs/deep-transit/lib/python3.8/site-packages/torch/cuda/amp/grad_scaler.py:116: UserWarning: torch.cuda.amp.GradScaler is enabled, but CUDA is not available.  Disabling.\n"
     ]
    },
    {
     "data": {
      "application/vnd.jupyter.widget-view+json": {
       "model_id": "997ce30fd73942d7862810574cfd3598",
       "version_major": 2,
       "version_minor": 0
      },
      "text/plain": [
       "  0%|          | 0/1 [00:00<?, ?it/s]"
      ]
     },
     "metadata": {},
     "output_type": "display_data"
    },
    {
     "name": "stderr",
     "output_type": "stream",
     "text": [
      "/home/ckm/miniconda3/envs/deep-transit/lib/python3.8/site-packages/torch/cuda/amp/autocast_mode.py:118: UserWarning: torch.cuda.amp.autocast only affects CUDA ops, but CUDA is not available.  Disabling.\n",
      "  0%|          | 0/1 [00:00<?, ?it/s]"
     ]
    },
    {
     "name": "stdout",
     "output_type": "stream",
     "text": [
      "On Validation loader:\n"
     ]
    },
    {
     "name": "stderr",
     "output_type": "stream",
     "text": [
      "100%|██████████| 1/1 [00:01<00:00,  1.33s/it]"
     ]
    },
    {
     "name": "stdout",
     "output_type": "stream",
     "text": [
      "AP50: 0.000, AP750: 0.000, AP90: 0.000\n"
     ]
    },
    {
     "name": "stderr",
     "output_type": "stream",
     "text": [
      "\n"
     ]
    },
    {
     "data": {
      "application/vnd.jupyter.widget-view+json": {
       "model_id": "b4f3dcbbd7b5491caff9f0a600326b60",
       "version_major": 2,
       "version_minor": 0
      },
      "text/plain": [
       "  0%|          | 0/1 [00:00<?, ?it/s]"
      ]
     },
     "metadata": {},
     "output_type": "display_data"
    },
    {
     "name": "stderr",
     "output_type": "stream",
     "text": [
      "  0%|          | 0/1 [00:00<?, ?it/s]"
     ]
    },
    {
     "name": "stdout",
     "output_type": "stream",
     "text": [
      "On Validation loader:\n"
     ]
    },
    {
     "name": "stderr",
     "output_type": "stream",
     "text": [
      "100%|██████████| 1/1 [00:01<00:00,  1.39s/it]"
     ]
    },
    {
     "name": "stdout",
     "output_type": "stream",
     "text": [
      "AP50: 0.000, AP750: 0.000, AP90: 0.000\n"
     ]
    },
    {
     "name": "stderr",
     "output_type": "stream",
     "text": [
      "\n"
     ]
    }
   ],
   "source": [
    "dt.train()"
   ]
  },
  {
   "cell_type": "code",
   "execution_count": null,
   "id": "b4da0975-9697-4bc5-8bc4-8cec56856fbc",
   "metadata": {},
   "outputs": [],
   "source": []
  }
 ],
 "metadata": {
  "kernelspec": {
   "display_name": "deep-transit",
   "language": "python",
   "name": "deep-transit"
  },
  "language_info": {
   "codemirror_mode": {
    "name": "ipython",
    "version": 3
   },
   "file_extension": ".py",
   "mimetype": "text/x-python",
   "name": "python",
   "nbconvert_exporter": "python",
   "pygments_lexer": "ipython3",
   "version": "3.8.8"
  },
  "widgets": {
   "application/vnd.jupyter.widget-state+json": {
    "state": {
     "061f91116d2c425db739ee642e4bd861": {
      "model_module": "@jupyter-widgets/base",
      "model_module_version": "1.2.0",
      "model_name": "LayoutModel",
      "state": {}
     },
     "1eea48bc1e274151a6bce5c5815d65d3": {
      "model_module": "@jupyter-widgets/base",
      "model_module_version": "1.2.0",
      "model_name": "LayoutModel",
      "state": {}
     },
     "435f9644935d4ca98e1d983e03a96e86": {
      "model_module": "@jupyter-widgets/base",
      "model_module_version": "1.2.0",
      "model_name": "LayoutModel",
      "state": {}
     },
     "66435bf4d9504a4ea005bd2c00921281": {
      "model_module": "@jupyter-widgets/controls",
      "model_module_version": "1.5.0",
      "model_name": "DescriptionStyleModel",
      "state": {
       "description_width": ""
      }
     },
     "687e50602d6546ff8ba4037872eac517": {
      "model_module": "@jupyter-widgets/controls",
      "model_module_version": "1.5.0",
      "model_name": "HTMLModel",
      "state": {
       "layout": "IPY_MODEL_9148c847803340329563cd8ff6cfaa1f",
       "style": "IPY_MODEL_d85318bf189e4cfabb990e27496bb01c",
       "value": "100%"
      }
     },
     "7ac7da3a9d5e4376b6b960e0257c1e3a": {
      "model_module": "@jupyter-widgets/controls",
      "model_module_version": "1.5.0",
      "model_name": "HTMLModel",
      "state": {
       "layout": "IPY_MODEL_061f91116d2c425db739ee642e4bd861",
       "style": "IPY_MODEL_66435bf4d9504a4ea005bd2c00921281",
       "value": " 1/1 [00:05&lt;00:00,  5.24s/it, loss=199]"
      }
     },
     "7e202296464247fdae9b37b07d42219b": {
      "model_module": "@jupyter-widgets/controls",
      "model_module_version": "1.5.0",
      "model_name": "DescriptionStyleModel",
      "state": {
       "description_width": ""
      }
     },
     "8a1dd5b1d976435bb3190f42409658fd": {
      "model_module": "@jupyter-widgets/base",
      "model_module_version": "1.2.0",
      "model_name": "LayoutModel",
      "state": {}
     },
     "9148c847803340329563cd8ff6cfaa1f": {
      "model_module": "@jupyter-widgets/base",
      "model_module_version": "1.2.0",
      "model_name": "LayoutModel",
      "state": {}
     },
     "914ef7027aa24f9a8332d549eb6bed26": {
      "model_module": "@jupyter-widgets/controls",
      "model_module_version": "1.5.0",
      "model_name": "FloatProgressModel",
      "state": {
       "bar_style": "success",
       "layout": "IPY_MODEL_fb17c86c501a4dd29715cd586979a696",
       "max": 1,
       "style": "IPY_MODEL_9242f667bcec4d3cb5a4345064a45151",
       "value": 1
      }
     },
     "9242f667bcec4d3cb5a4345064a45151": {
      "model_module": "@jupyter-widgets/controls",
      "model_module_version": "1.5.0",
      "model_name": "ProgressStyleModel",
      "state": {
       "description_width": ""
      }
     },
     "997ce30fd73942d7862810574cfd3598": {
      "model_module": "@jupyter-widgets/controls",
      "model_module_version": "1.5.0",
      "model_name": "HBoxModel",
      "state": {
       "children": [
        "IPY_MODEL_687e50602d6546ff8ba4037872eac517",
        "IPY_MODEL_b316b44a4c0d4b6f80fd52680468b801",
        "IPY_MODEL_dccad5ef639e471d8457ddb4152c3d8c"
       ],
       "layout": "IPY_MODEL_a253c1a71ba348ab9edea683c7d67e65"
      }
     },
     "a253c1a71ba348ab9edea683c7d67e65": {
      "model_module": "@jupyter-widgets/base",
      "model_module_version": "1.2.0",
      "model_name": "LayoutModel",
      "state": {}
     },
     "aad2dcb337c546d9a0680d256a89fde9": {
      "model_module": "@jupyter-widgets/controls",
      "model_module_version": "1.5.0",
      "model_name": "DescriptionStyleModel",
      "state": {
       "description_width": ""
      }
     },
     "b316b44a4c0d4b6f80fd52680468b801": {
      "model_module": "@jupyter-widgets/controls",
      "model_module_version": "1.5.0",
      "model_name": "FloatProgressModel",
      "state": {
       "bar_style": "success",
       "layout": "IPY_MODEL_c64fc47df0aa4bd4951d7f5c0820cd41",
       "max": 1,
       "style": "IPY_MODEL_d8aaea4643f14097a174e5958c27598a",
       "value": 1
      }
     },
     "b4f3dcbbd7b5491caff9f0a600326b60": {
      "model_module": "@jupyter-widgets/controls",
      "model_module_version": "1.5.0",
      "model_name": "HBoxModel",
      "state": {
       "children": [
        "IPY_MODEL_deecda47a3c84a118da6d15de8192cb9",
        "IPY_MODEL_914ef7027aa24f9a8332d549eb6bed26",
        "IPY_MODEL_7ac7da3a9d5e4376b6b960e0257c1e3a"
       ],
       "layout": "IPY_MODEL_1eea48bc1e274151a6bce5c5815d65d3"
      }
     },
     "c64fc47df0aa4bd4951d7f5c0820cd41": {
      "model_module": "@jupyter-widgets/base",
      "model_module_version": "1.2.0",
      "model_name": "LayoutModel",
      "state": {}
     },
     "d85318bf189e4cfabb990e27496bb01c": {
      "model_module": "@jupyter-widgets/controls",
      "model_module_version": "1.5.0",
      "model_name": "DescriptionStyleModel",
      "state": {
       "description_width": ""
      }
     },
     "d8aaea4643f14097a174e5958c27598a": {
      "model_module": "@jupyter-widgets/controls",
      "model_module_version": "1.5.0",
      "model_name": "ProgressStyleModel",
      "state": {
       "description_width": ""
      }
     },
     "dccad5ef639e471d8457ddb4152c3d8c": {
      "model_module": "@jupyter-widgets/controls",
      "model_module_version": "1.5.0",
      "model_name": "HTMLModel",
      "state": {
       "layout": "IPY_MODEL_8a1dd5b1d976435bb3190f42409658fd",
       "style": "IPY_MODEL_7e202296464247fdae9b37b07d42219b",
       "value": " 1/1 [00:05&lt;00:00,  5.09s/it, loss=35.4]"
      }
     },
     "deecda47a3c84a118da6d15de8192cb9": {
      "model_module": "@jupyter-widgets/controls",
      "model_module_version": "1.5.0",
      "model_name": "HTMLModel",
      "state": {
       "layout": "IPY_MODEL_435f9644935d4ca98e1d983e03a96e86",
       "style": "IPY_MODEL_aad2dcb337c546d9a0680d256a89fde9",
       "value": "100%"
      }
     },
     "fb17c86c501a4dd29715cd586979a696": {
      "model_module": "@jupyter-widgets/base",
      "model_module_version": "1.2.0",
      "model_name": "LayoutModel",
      "state": {}
     }
    },
    "version_major": 2,
    "version_minor": 0
   }
  }
 },
 "nbformat": 4,
 "nbformat_minor": 5
}
